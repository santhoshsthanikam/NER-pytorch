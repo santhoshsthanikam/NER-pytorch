{
 "cells": [
  {
   "cell_type": "code",
   "execution_count": 1,
   "metadata": {},
   "outputs": [
    {
     "name": "stdout",
     "output_type": "stream",
     "text": [
      "Length of words dictionary : 10951\n",
      "Length of label dictionary : 11\n",
      "Length of character dictionary : 50\n",
      "Loaded 400000 pretrained embeddings.\n"
     ]
    },
    {
     "name": "stderr",
     "output_type": "stream",
     "text": [
      "/home/shaurya/anaconda2/lib/python2.7/site-packages/torch/nn/modules/rnn.py:38: UserWarning: dropout option adds dropout after all but last recurrent layer, so non-zero dropout expects num_layers greater than 1, but got dropout=0.6 and num_layers=1\n",
      "  \"num_layers={}\".format(dropout, num_layers))\n"
     ]
    }
   ],
   "source": [
    "from model import *\n",
    "\n",
    "import numpy as np\n",
    "from torch.autograd import Variable\n",
    "from sklearn.metrics import f1_score,precision_score,precision_recall_fscore_support\n",
    "import time\n",
    "import tqdm\n",
    "\n",
    "CHAR_SIZE = len(character_mapping)\n",
    "WORD_SIZE = len(feature_mapping)\n",
    "TARGET_SIZE = len(label_mapping)\n",
    "\n",
    "model = Model(CHAR_SIZE, CHAR_DIM, FILTER_SIZE, CHAR_OUT_DIMENSION, WORD_SIZE, WORD_DIM, HIDDEN_DIM, TARGET_SIZE)"
   ]
  },
  {
   "cell_type": "code",
   "execution_count": 2,
   "metadata": {
    "collapsed": true
   },
   "outputs": [],
   "source": [
    "checkpoint = torch.load(MODEL_PATH,map_location=lambda storage, loc: storage)\n",
    "model.load_state_dict(checkpoint['state_dict'])"
   ]
  },
  {
   "cell_type": "code",
   "execution_count": 80,
   "metadata": {
    "collapsed": true
   },
   "outputs": [],
   "source": [
    "def user_inputs(input_):\n",
    "    X_word = input_.lower().split() \n",
    "    X = [feature_mapping.get(word) if feature_mapping.get(word) else feature_mapping['<unk>'] for word in X_word]\n",
    "    X_char = [[character_mapping[c] if character_mapping.get(c) else character_mapping['<unk>'] for c in word] if feature_mapping.get(word) else [character_mapping['<unk>']] for word in X_word]\n",
    "    chars2_length = [len(c) for c in X_char]\n",
    "    char_max_len = max(chars2_length)\n",
    "    char_data = np.zeros((1,len(X),char_max_len))\n",
    "    #for i,item in enumerate(batch):\n",
    "    for j,c in enumerate(X_char):\n",
    "        char_data[0,j,:len(c)] = c\n",
    "    X = torch.tensor(X).view(-1,len(X))\n",
    "    #X_char = torch.tensor(X_char).view(-1,len(X))\n",
    "    return X ,torch.tensor(char_data)"
   ]
  },
  {
   "cell_type": "code",
   "execution_count": 101,
   "metadata": {},
   "outputs": [],
   "source": [
    "a,b = user_inputs(\"soccer - japan get lucky win , china in suprise defeat\")"
   ]
  },
  {
   "cell_type": "code",
   "execution_count": 102,
   "metadata": {},
   "outputs": [],
   "source": [
    "id2label ={}\n",
    "for i,j in label_mapping.items():\n",
    "    id2label[j]=i"
   ]
  },
  {
   "cell_type": "code",
   "execution_count": 103,
   "metadata": {},
   "outputs": [
    {
     "name": "stdout",
     "output_type": "stream",
     "text": [
      "o\n",
      "o\n",
      "i-loc\n",
      "o\n",
      "o\n",
      "o\n",
      "o\n",
      "i-loc\n",
      "o\n",
      "i-loc\n",
      "o\n"
     ]
    }
   ],
   "source": [
    "pred = model.predict(a,b)\n",
    "for i in pred.data.numpy()[0]:\n",
    "    print id2label[i]"
   ]
  },
  {
   "cell_type": "code",
   "execution_count": 104,
   "metadata": {},
   "outputs": [
    {
     "data": {
      "text/plain": [
       "(['soccer',\n",
       "  '-',\n",
       "  'japan',\n",
       "  'get',\n",
       "  'lucky',\n",
       "  'win',\n",
       "  ',',\n",
       "  'china',\n",
       "  'in',\n",
       "  'surprise',\n",
       "  'defeat',\n",
       "  '.'],\n",
       " ['o', 'o', 'i-loc', 'o', 'o', 'o', 'o', 'i-per', 'o', 'o', 'o', 'o'])"
      ]
     },
     "execution_count": 104,
     "metadata": {},
     "output_type": "execute_result"
    }
   ],
   "source": [
    "test_data[0]"
   ]
  },
  {
   "cell_type": "code",
   "execution_count": null,
   "metadata": {
    "collapsed": true
   },
   "outputs": [],
   "source": []
  }
 ],
 "metadata": {
  "kernelspec": {
   "display_name": "Python 2",
   "language": "python",
   "name": "python2"
  },
  "language_info": {
   "codemirror_mode": {
    "name": "ipython",
    "version": 2
   },
   "file_extension": ".py",
   "mimetype": "text/x-python",
   "name": "python",
   "nbconvert_exporter": "python",
   "pygments_lexer": "ipython2",
   "version": "2.7.15"
  }
 },
 "nbformat": 4,
 "nbformat_minor": 2
}
